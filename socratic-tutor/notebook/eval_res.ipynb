{
 "cells": [
  {
   "cell_type": "code",
   "execution_count": 29,
   "id": "6b987327-66bf-4009-8ed7-04d1c3efb34a",
   "metadata": {
    "tags": []
   },
   "outputs": [],
   "source": [
    "import sys\n",
    "import pickle as pkl\n",
    "\n",
    "sys.path.append('..')\n",
    "eval_res_path = \"../eval_output/\"\n",
    "res_paths = [\"good-tree-100.pkl\", \"good-pre-tree-500.pkl\", \"good-more-500.pkl\", \"good-pre-more-500.pkl\", \"good-mid-more-500.pkl\"]\n",
    "res = []\n",
    "for res_path in res_paths:\n",
    "    with open(eval_res_path + res_path, \"rb\") as f:\n",
    "        res.append(pkl.load(f))"
   ]
  },
  {
   "cell_type": "code",
   "execution_count": 35,
   "id": "e5f64a8e-d0c7-499e-b4c6-ae23198d0552",
   "metadata": {},
   "outputs": [
    {
     "data": {
      "text/plain": [
       "11.81390134529148"
      ]
     },
     "execution_count": 35,
     "metadata": {},
     "output_type": "execute_result"
    }
   ],
   "source": [
    "res[4]['mean_solution_length']"
   ]
  },
  {
   "cell_type": "code",
   "execution_count": 31,
   "id": "a80645be-967f-46d3-afb5-e07f083b59e2",
   "metadata": {},
   "outputs": [
    {
     "data": {
      "text/plain": [
       "[State((-2x + 9) = (-10x + (-3))),\n",
       " State((-2x + (9 - 9)) = ((-10x + (-3)) - 9) | sub~assoc $~0.0, 9~((-2x + 9) - 9)),\n",
       " State((-2x + (9 - 9)) = (((-3) + -10x) - 9) | comm 0.1.0, (-10x + (-3))),\n",
       " State((-2x + 0) = (((-3) + -10x) - 9) | eval 0.0.1, (9 - 9)),\n",
       " State(-2x = (((-3) + -10x) - 9) | add0 0.0, (-2x + 0)),\n",
       " State((((-3) + -10x) - 9) = -2x | refl),\n",
       " State(((((-3) + -10x) - 9) - -10x) = (-2x - -10x) | sub -10x),\n",
       " State(((((-3) + -10x) - -10x) - 9) = (-2x - -10x) | sub_comm 0.0, ((((-3) + -10x) - 9) - -10x)),\n",
       " State((((-3) + (-10x - -10x)) - 9) = (-2x - -10x) | assoc 0.0.0, (((-3) + -10x) - -10x)),\n",
       " State((((-3) + (-10x - -10x)) - 9) = 8x | dist~eval 0.1~0.1.0, (-2x - -10x)~((-2) - (-10))),\n",
       " State((((-3) + 0) - 9) = 8x | sub_self 0.0.0.1, (-10x - -10x)),\n",
       " State(8x = (((-3) + 0) - 9) | refl),\n",
       " State(8x = ((-3) + (-9)) | assoc~eval 0.1~0.1.1, (((-3) + 0) - 9)~(0 - 9)),\n",
       " State((8x / 8) = (((-3) + (-9)) / 8) | div 8),\n",
       " State((x * (8 / 8)) = (((-3) + (-9)) / 8) | comm~assoc 0.0.0~0.0, 8x~((x * 8) / 8)),\n",
       " State(x = (((-3) + (-9)) / 8) | eval~mul1 0.0.1~0.0, (8 / 8)~(x * 1)),\n",
       " State(x = ((-12) / 8) | eval 0.1.0, ((-3) + (-9))),\n",
       " State(x = ([-3/2]) | eval 0.1, ((-12) / 8))]"
      ]
     },
     "execution_count": 31,
     "metadata": {},
     "output_type": "execute_result"
    }
   ],
   "source": [
    "res[3]['solutions'][4]"
   ]
  },
  {
   "cell_type": "code",
   "execution_count": 32,
   "id": "785907d9-0f29-40e7-a736-daea9e283fbe",
   "metadata": {
    "tags": []
   },
   "outputs": [
    {
     "data": {
      "text/plain": [
       "[State((-2x + 9) = (-10x + (-3))),\n",
       " State((-2x + (9 - 9)) = ((-10x + (-3)) - 9) | sub~assoc $~0.0, 9~((-2x + 9) - 9)),\n",
       " State((-2x + (9 - 9)) = (((-3) + -10x) - 9) | comm 0.1.0, (-10x + (-3))),\n",
       " State((-2x + 0) = (((-3) + -10x) - 9) | eval 0.0.1, (9 - 9)),\n",
       " State(-2x = (((-3) + -10x) - 9) | add0 0.0, (-2x + 0)),\n",
       " State((((-3) + -10x) - 9) = -2x | refl),\n",
       " State(((((-3) + -10x) - 9) - -10x) = (-2x - -10x) | sub -10x),\n",
       " State(((((-3) + -10x) - -10x) - 9) = (-2x - -10x) | sub_comm 0.0, ((((-3) + -10x) - 9) - -10x)),\n",
       " State((((-3) + (-10x - -10x)) - 9) = (-2x - -10x) | assoc 0.0.0, (((-3) + -10x) - -10x)),\n",
       " State((((-3) + (-10x - -10x)) - 9) = 8x | dist~eval 0.1~0.1.0, (-2x - -10x)~((-2) - (-10))),\n",
       " State((((-3) + 0) - 9) = 8x | sub_self 0.0.0.1, (-10x - -10x)),\n",
       " State(8x = (((-3) + 0) - 9) | refl),\n",
       " State(8x = ((-3) + (-9)) | assoc~eval 0.1~0.1.1, (((-3) + 0) - 9)~(0 - 9)),\n",
       " State((8x / 8) = (((-3) + (-9)) / 8) | div 8),\n",
       " State((x * (8 / 8)) = (((-3) + (-9)) / 8) | comm~assoc 0.0.0~0.0, 8x~((x * 8) / 8)),\n",
       " State(x = (((-3) + (-9)) / 8) | eval~mul1 0.0.1~0.0, (8 / 8)~(x * 1)),\n",
       " State(x = ((-12) / 8) | eval 0.1.0, ((-3) + (-9))),\n",
       " State(x = ([-3/2]) | eval 0.1, ((-12) / 8))]"
      ]
     },
     "execution_count": 32,
     "metadata": {},
     "output_type": "execute_result"
    }
   ],
   "source": [
    "res[1]['solutions'][4]"
   ]
  },
  {
   "cell_type": "code",
   "execution_count": 33,
   "id": "120aadd6-8165-4f44-bf80-f08992dbbca6",
   "metadata": {
    "tags": []
   },
   "outputs": [
    {
     "data": {
      "text/plain": [
       "[State((-2x + 9) = (-10x + (-3))),\n",
       " State((-2x + (9 - 9)) = ((-10x + (-3)) - 9) | sub~assoc $~0.0, 9~((-2x + 9) - 9)),\n",
       " State((-2x + (9 - 9)) = (((-3) + -10x) - 9) | comm 0.1.0, (-10x + (-3))),\n",
       " State((-2x + 0) = (((-3) + -10x) - 9) | eval 0.0.1, (9 - 9)),\n",
       " State(-2x = (((-3) + -10x) - 9) | add0 0.0, (-2x + 0)),\n",
       " State((((-3) + -10x) - 9) = -2x | refl),\n",
       " State(((((-3) + -10x) - 9) - -10x) = (-2x - -10x) | sub -10x),\n",
       " State(((((-3) + -10x) - -10x) - 9) = (-2x - -10x) | sub_comm 0.0, ((((-3) + -10x) - 9) - -10x)),\n",
       " State((((-3) + (-10x - -10x)) - 9) = (-2x - -10x) | assoc 0.0.0, (((-3) + -10x) - -10x)),\n",
       " State((((-3) + (-10x - -10x)) - 9) = 8x | dist~eval 0.1~0.1.0, (-2x - -10x)~((-2) - (-10))),\n",
       " State((((-3) + 0) - 9) = 8x | sub_self 0.0.0.1, (-10x - -10x)),\n",
       " State(8x = (((-3) + 0) - 9) | refl),\n",
       " State(8x = ((-3) + (-9)) | assoc~eval 0.1~0.1.1, (((-3) + 0) - 9)~(0 - 9)),\n",
       " State((8x / 8) = (((-3) + (-9)) / 8) | div 8),\n",
       " State((x * (8 / 8)) = (((-3) + (-9)) / 8) | comm~assoc 0.0.0~0.0, 8x~((x * 8) / 8)),\n",
       " State(x = (((-3) + (-9)) / 8) | eval~mul1 0.0.1~0.0, (8 / 8)~(x * 1)),\n",
       " State(x = ((-12) / 8) | eval 0.1.0, ((-3) + (-9))),\n",
       " State(x = ([-3/2]) | eval 0.1, ((-12) / 8))]"
      ]
     },
     "execution_count": 33,
     "metadata": {},
     "output_type": "execute_result"
    }
   ],
   "source": [
    "res[1]['solutions'][4]"
   ]
  },
  {
   "cell_type": "code",
   "execution_count": 42,
   "id": "5fdc9f2e-81c4-451e-8ff7-acd21a1db82e",
   "metadata": {},
   "outputs": [
    {
     "name": "stdout",
     "output_type": "stream",
     "text": [
      "0 13 13 12\n",
      "1 16 16 18\n",
      "2 18 18 15\n",
      "3 5 5 4\n",
      "4 18 18 17\n",
      "5 0 17 18\n",
      "6 9 9 26\n",
      "7 16 14 0\n",
      "8 19 19 19\n",
      "9 10 10 10\n",
      "10 12 12 12\n",
      "11 17 15 0\n",
      "12 7 6 10\n",
      "13 16 16 16\n",
      "14 21 18 18\n",
      "15 5 5 5\n",
      "16 0 0 0\n",
      "17 3 3 3\n",
      "18 12 12 12\n",
      "19 16 16 16\n",
      "20 13 14 13\n",
      "21 8 8 8\n",
      "22 15 15 14\n",
      "23 5 5 7\n",
      "24 17 15 15\n",
      "25 18 16 17\n",
      "26 6 6 5\n",
      "27 18 16 15\n",
      "28 21 21 15\n",
      "29 0 20 20\n",
      "30 12 13 0\n",
      "31 11 11 11\n",
      "32 0 0 0\n",
      "33 17 17 15\n",
      "34 11 11 9\n",
      "35 10 10 9\n",
      "36 11 11 10\n",
      "37 15 15 17\n",
      "38 0 0 17\n",
      "39 13 12 15\n",
      "40 10 10 8\n",
      "41 13 13 12\n",
      "42 7 7 7\n",
      "43 7 7 6\n",
      "44 8 8 5\n",
      "45 15 15 19\n",
      "46 6 6 6\n",
      "47 3 3 3\n",
      "48 0 0 0\n",
      "49 3 3 3\n",
      "50 15 16 16\n",
      "51 9 9 9\n",
      "52 17 17 19\n",
      "53 5 5 4\n",
      "54 21 21 0\n",
      "55 6 6 5\n",
      "56 0 0 15\n",
      "57 16 14 15\n",
      "58 0 0 0\n",
      "59 17 17 16\n",
      "60 17 17 19\n",
      "61 14 14 0\n",
      "62 9 9 7\n",
      "63 16 14 15\n",
      "64 10 10 8\n",
      "65 17 17 17\n",
      "66 6 6 5\n",
      "67 15 15 14\n",
      "68 13 13 13\n",
      "69 0 0 11\n",
      "70 12 10 11\n",
      "71 18 18 14\n",
      "72 14 14 11\n",
      "73 24 17 0\n",
      "74 5 5 4\n",
      "75 22 21 0\n",
      "76 16 16 11\n",
      "77 16 13 12\n",
      "78 7 6 7\n",
      "79 17 17 18\n",
      "80 3 3 3\n",
      "81 15 15 17\n",
      "82 9 10 9\n",
      "83 18 17 15\n",
      "84 19 20 20\n",
      "85 0 0 19\n",
      "86 7 7 7\n",
      "87 18 18 22\n",
      "88 0 0 15\n",
      "89 4 4 5\n",
      "90 10 10 8\n",
      "91 7 7 6\n",
      "92 7 6 6\n",
      "93 11 11 9\n",
      "94 12 12 14\n",
      "95 9 9 9\n",
      "96 3 3 3\n",
      "97 17 17 21\n",
      "98 10 10 10\n",
      "99 17 17 17\n"
     ]
    }
   ],
   "source": [
    "for i in range(100):\n",
    "    print(i, len(res[1]['solutions'][i] or []), len(res[3]['solutions'][i] or []), len(res[4]['solutions'][i] or []))"
   ]
  },
  {
   "cell_type": "code",
   "execution_count": 38,
   "id": "86eae603-671c-4cf7-b97a-526efe383145",
   "metadata": {
    "tags": []
   },
   "outputs": [
    {
     "data": {
      "text/plain": [
       "[State(((4x - (-1)) + 4x) = (-8)),\n",
       " State((4x + (4x - (-1))) = (-8) | comm 0.0, ((4x - (-1)) + 4x)),\n",
       " State(((4x + 4x) - (-1)) = (-8) | assoc 0.0, (4x + (4x - (-1)))),\n",
       " State((((4 + 4) * x) - (-1)) = (-8) | dist 0.0.0, (4x + 4x)),\n",
       " State((-8) = (((4 + 4) * x) - (-1)) | refl),\n",
       " State((-8) = (((4 + 4) * x) + 1) | subsub 0.1, (((4 + 4) * x) - (-1))),\n",
       " State(((-8) - 1) = ((((4 + 4) * x) + 1) - 1) | sub 1),\n",
       " State(((-8) - 1) = (((4 + 4) * x) + 0) | assoc~eval 0.1~0.1.1, ((((4 + 4) * x) + 1) - 1)~(1 - 1)),\n",
       " State(((-8) - 1) = (8x + 0) | eval 0.1.0.0, (4 + 4)),\n",
       " State(((-8) - 1) = 8x | add0 0.1, (8x + 0)),\n",
       " State((((-8) - 1) / 8) = (8x / 8) | div 8),\n",
       " State(((-9) / 8) = (8x / 8) | eval 0.0.0, ((-8) - 1)),\n",
       " State((8x / 8) = ((-9) / 8) | refl),\n",
       " State((x * (8 / 8)) = ((-9) / 8) | comm~assoc 0.0.0~0.0, 8x~((x * 8) / 8)),\n",
       " State(x = ((-9) / 8) | eval~mul1 0.0.1~0.0, (8 / 8)~(x * 1)),\n",
       " State(x = ([-9/8]) | eval 0.1, ((-9) / 8))]"
      ]
     },
     "execution_count": 38,
     "metadata": {},
     "output_type": "execute_result"
    }
   ],
   "source": [
    "res[3]['solutions'][76]"
   ]
  },
  {
   "cell_type": "code",
   "execution_count": 39,
   "id": "6ec90646-ed61-4ca9-802e-d9f6c14241c3",
   "metadata": {
    "tags": []
   },
   "outputs": [
    {
     "data": {
      "text/plain": [
       "[State(((4x - (-1)) + 4x) = (-8)),\n",
       " State((4x + (4x - (-1))) = (-8) | comm 0.0, ((4x - (-1)) + 4x)),\n",
       " State((4x + (4x + 1)) = (-8) | subsub 0.0.1, (4x - (-1))),\n",
       " State(((4x + 4x) + 1) = (-8) | assoc 0.0, (4x + (4x + 1))),\n",
       " State((8x + 1) = (-8) | dist~eval 0.0.0~0.0.0.0, (4x + 4x)~(4 + 4)),\n",
       " State((8x + (1 - 1)) = ((-8) - 1) | sub~assoc $~0.0, 1~((8x + 1) - 1)),\n",
       " State((8x + 0) = ((-8) - 1) | eval 0.0.1, (1 - 1)),\n",
       " State(((8x + 0) / 8) = (((-8) - 1) / 8) | div 8),\n",
       " State((((x * 8) + 0) / 8) = (((-8) - 1) / 8) | comm 0.0.0.0, 8x),\n",
       " State((x * 1) = ((-9) / 8) | eval~add0~assoc~eval 0.1.0~0.0.0~0.0~0.0.1, ((-8) - 1)~((x * 8) + 0)~((x * 8) / 8)~(8 / 8)),\n",
       " State(x = ([-9/8]) | mul1~eval 0.0~0.1, (x * 1)~((-9) / 8))]"
      ]
     },
     "execution_count": 39,
     "metadata": {},
     "output_type": "execute_result"
    }
   ],
   "source": [
    "res[4]['solutions'][76]"
   ]
  },
  {
   "cell_type": "code",
   "execution_count": 41,
   "id": "5da4491b-ef54-4b17-8bcb-14a5e0f8e1ee",
   "metadata": {},
   "outputs": [
    {
     "data": {
      "text/plain": [
       "dict_keys(['solutions', 'success_rate', 'solution_lengths', 'max_solution_length', 'mean_solution_length'])"
      ]
     },
     "execution_count": 41,
     "metadata": {},
     "output_type": "execute_result"
    }
   ],
   "source": [
    "res[0].keys()"
   ]
  },
  {
   "cell_type": "code",
   "execution_count": null,
   "id": "83815924-7c1b-4af5-bbfe-32edb7243ccd",
   "metadata": {},
   "outputs": [],
   "source": []
  }
 ],
 "metadata": {
  "kernelspec": {
   "display_name": "Python 3 (ipykernel)",
   "language": "python",
   "name": "python3"
  },
  "language_info": {
   "codemirror_mode": {
    "name": "ipython",
    "version": 3
   },
   "file_extension": ".py",
   "mimetype": "text/x-python",
   "name": "python",
   "nbconvert_exporter": "python",
   "pygments_lexer": "ipython3",
   "version": "3.9.7"
  }
 },
 "nbformat": 4,
 "nbformat_minor": 5
}
