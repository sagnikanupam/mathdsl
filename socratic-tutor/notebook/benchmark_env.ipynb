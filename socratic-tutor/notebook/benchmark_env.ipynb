{
 "cells": [
  {
   "cell_type": "code",
   "execution_count": 26,
   "id": "651e01db-4563-457a-9aeb-e4d7b331aa4b",
   "metadata": {},
   "outputs": [
    {
     "data": {
      "text/html": [
       "<style>pre { white-space: pre !important; }</style>"
      ],
      "text/plain": [
       "<IPython.core.display.HTML object>"
      ]
     },
     "metadata": {},
     "output_type": "display_data"
    }
   ],
   "source": [
    "import sys\n",
    "sys.path.append('..')\n",
    "\n",
    "from IPython.display import display, HTML\n",
    "display(HTML(\"<style>pre { white-space: pre !important; }</style>\"))\n",
    "\n",
    "from commoncore import generate, step, apply\n",
    "from environment import RustEnvironment, State\n",
    "from abstractions import Axiom, AxSeqTreeRelPos\n",
    "from time import time\n",
    "import json\n",
    "import pickle as pkl\n",
    "\n",
    "with open(\"../mathematical-abstractions/equation_axioms.json\", \"r\") as f:\n",
    "    axioms = json.load(f)['axioms']\n",
    "\n",
    "abs_config = {\"abs_type\": \"tree_rel_pos\", \"abs_ax\": [Axiom(\"refl\", AxSeqTreeRelPos), Axiom(\"comm\", AxSeqTreeRelPos), Axiom(\"assoc\", AxSeqTreeRelPos), Axiom(\"dist\", AxSeqTreeRelPos), Axiom(\"sub_comm\", AxSeqTreeRelPos), Axiom(\"eval\", AxSeqTreeRelPos), Axiom(\"add0\", AxSeqTreeRelPos), Axiom(\"sub0\", AxSeqTreeRelPos), Axiom(\"mul1\", AxSeqTreeRelPos), Axiom(\"div1\", AxSeqTreeRelPos), Axiom(\"div_self\", AxSeqTreeRelPos), Axiom(\"sub_self\", AxSeqTreeRelPos), Axiom(\"subsub\", AxSeqTreeRelPos), Axiom(\"mul0\", AxSeqTreeRelPos), Axiom(\"zero_div\", AxSeqTreeRelPos), Axiom(\"add\", AxSeqTreeRelPos), Axiom(\"sub\", AxSeqTreeRelPos), Axiom(\"mul\", AxSeqTreeRelPos), Axiom(\"div\", AxSeqTreeRelPos), AxSeqTreeRelPos.from_string(\"assoc~eval:_1\"), AxSeqTreeRelPos.from_string(\"eval~mul1:1_\"), AxSeqTreeRelPos.from_string(\"comm~assoc:0_\"), AxSeqTreeRelPos.from_string(\"eval~eval:0_\"), AxSeqTreeRelPos.from_string(\"mul1~eval:0_1\"), AxSeqTreeRelPos.from_string(\"div~assoc:$_0.0\"), AxSeqTreeRelPos.from_string(\"div~comm:$_0.0.0\"), AxSeqTreeRelPos.from_string(\"eval~add0:1_\"), AxSeqTreeRelPos.from_string(\"{assoc~eval:_1}~{mul1~eval:0_1}:1_\"), AxSeqTreeRelPos.from_string(\"assoc~eval~mul1~eval:_1~1_~0_1\"), AxSeqTreeRelPos.from_string(\"{div~comm:$_0.0.0}~{assoc~eval:_1}:0_\"), AxSeqTreeRelPos.from_string(\"div~comm~assoc~eval:$_0.0.0~0_~_1\"), AxSeqTreeRelPos.from_string(\"eval~{div~comm:$_0.0.0}:0.0.0_$\"), AxSeqTreeRelPos.from_string(\"{eval~eval:0_}~{assoc~eval:_1}:1_0\"), AxSeqTreeRelPos.from_string(\"sub~{comm~assoc:0_}:$_0.0.0\"), AxSeqTreeRelPos.from_string(\"{comm~assoc:0_}~{eval~add0:1_}:_1\"), AxSeqTreeRelPos.from_string(\"dist~{eval~div~comm:0.0.0_$~$_0.0.0}:_0\"), AxSeqTreeRelPos.from_string(\"{sub~comm~assoc:$_0.0.0~0_}~{eval~add0:1_}:_1\"), AxSeqTreeRelPos.from_string(\"dist~eval~div~comm:_0~0.0.0_$~$_0.0.0\"), AxSeqTreeRelPos.from_string(\"{eval~eval~assoc~eval:0_~1_0~_1}~mul1:1_\"), AxSeqTreeRelPos.from_string(\"sub~comm~assoc~eval~add0:$_0.0.0~0_~_1~1_\"), AxSeqTreeRelPos.from_string(\"eval~eval~assoc~eval~mul1:0_~1_0~_1~1_\"), AxSeqTreeRelPos.from_string(\"{comm~assoc~eval~add0:0_~_1~1_}~{assoc~eval~mul1~eval:_1~1_~0_1}:1.0_0\"),AxSeqTreeRelPos.from_string(\"comm~assoc~eval~add0~assoc~eval~mul1~eval:0_~_1~1_~1.0_0~_1~1_~0_1\"), AxSeqTreeRelPos.from_string(\"sub_self~{comm~assoc~eval~add0~assoc~eval~mul1~eval:0_~_1~1_~1.0_0~_1~1_~0_1}:1_\"), AxSeqTreeRelPos.from_string(\"{sub~comm~assoc:$_0.0.0~0_}~{sub~comm~assoc~eval~add0:$_0.0.0~0_~_1~1_}:0.0_$\"), AxSeqTreeRelPos.from_string(\"{sub~comm~assoc~eval~add0:$_0.0.0~0_~_1~1_}~{dist~eval~div~comm:_0~0.0.0_$~$_0.0.0}:_\"), AxSeqTreeRelPos.from_string(\"sub_self~comm~assoc~eval~add0~assoc~eval~mul1~eval:1_~0_~_1~1_~1.0_0~_1~1_~0_1\"), AxSeqTreeRelPos.from_string(\"sub~comm~assoc~sub~comm~assoc~eval~add0:$_0.0.0~0_~0.0_$~$_0.0.0~0_~_1~1_\"), AxSeqTreeRelPos.from_string(\"sub~comm~assoc~eval~add0~dist~eval~div~comm:$_0.0.0~0_~_1~1_~_~_0~0.0.0_$~$_0.0.0\"), AxSeqTreeRelPos.from_string(\"{div~comm:$_0.0.0}~{eval~eval~assoc~eval~mul1:0_~1_0~_1~1_}:0.0_1.0\"), AxSeqTreeRelPos.from_string(\"{sub~comm~assoc~eval~add0:$_0.0.0~0_~_1~1_}~{div~comm:$_0.0.0}:0.0_$\")]}"
   ]
  },
  {
   "cell_type": "code",
   "execution_count": 58,
   "id": "39780b21-4423-4825-98c8-e5a143345e80",
   "metadata": {},
   "outputs": [
    {
     "name": "stdout",
     "output_type": "stream",
     "text": [
      "((-4) + 3x) = (10x + (-6))\n",
      "0.018120288848876953\n",
      "0.0067768096923828125\n"
     ]
    }
   ],
   "source": [
    "problem = generate(\"equations-ct\", 5)\n",
    "print(problem)\n",
    "start = time()\n",
    "step(\"equations-ct\", [problem] * 100)\n",
    "print(time() - start)\n",
    "start = time()\n",
    "apply(\"equations-ct\", [problem] * 100, \"sub\")\n",
    "# for ax in axioms:\n",
    "#     apply(\"equations-ct\", [problem], ax)\n",
    "print(time() - start)"
   ]
  },
  {
   "cell_type": "code",
   "execution_count": 62,
   "id": "fc6ff217-7c4f-488b-8792-f2dde7e5fbdc",
   "metadata": {},
   "outputs": [
    {
     "name": "stdout",
     "output_type": "stream",
     "text": [
      "0.03126692771911621\n",
      "[34, 33, 33, 18, 33, 33, 29, 18, 33, 28, 35, 18, 28, 33, 18, 18, 45, 20, 34, 33, 33, 24, 30, 18, 18, 14, 18, 18, 35, 33, 51, 23, 21, 33, 23, 28, 23, 29, 18, 33, 23, 25, 28, 24, 24, 34, 24, 20, 26, 14, 33, 23, 30, 18, 43, 24, 34, 18, 26, 29, 29, 19, 23, 18, 23, 33, 29, 29, 34, 31, 19, 29, 25, 18, 18, 21, 25, 34, 28, 33, 20, 33, 25, 18, 25, 14, 24, 25, 18, 29, 19, 24, 24, 23, 33, 19, 20, 33, 28, 33]\n"
     ]
    }
   ],
   "source": [
    "env = RustEnvironment(\"equations-ct\")\n",
    "problems = [generate('equations-ct', i) for i in range(100)]\n",
    "start = time()\n",
    "nums = []\n",
    "for problem in problems:\n",
    "    nums.append(len(env.step([State([problem], [], 0.)])[0][1]))\n",
    "print(time() - start)\n",
    "print(nums)"
   ]
  },
  {
   "cell_type": "code",
   "execution_count": 2,
   "id": "5d81649a-d80a-4201-8ece-88edc92dbbd5",
   "metadata": {},
   "outputs": [
    {
     "name": "stderr",
     "output_type": "stream",
     "text": [
      "/home/zedzh/math_abs_urop/socratic-tutor/notebook/../abs_util.py:79: UserWarning: Changing value of existing key\n",
      "  warnings.warn(\"Changing value of existing key\")\n"
     ]
    },
    {
     "name": "stdout",
     "output_type": "stream",
     "text": [
      "3.5334525108337402\n",
      "[35, 55, 55, 28, 54, 55, 29, 18, 33, 43, 37, 18, 29, 54, 18, 28, 46, 21, 52, 55, 51, 37, 50, 28, 27, 14, 18, 18, 54, 55, 60, 23, 29, 55, 23, 43, 23, 47, 18, 54, 39, 41, 28, 24, 38, 55, 38, 21, 28, 14, 54, 38, 48, 28, 61, 38, 56, 30, 36, 48, 47, 31, 38, 30, 39, 55, 45, 47, 35, 44, 32, 48, 35, 18, 28, 29, 35, 57, 29, 33, 21, 54, 37, 27, 40, 14, 24, 40, 18, 29, 19, 40, 25, 23, 54, 31, 21, 33, 43, 55]\n"
     ]
    }
   ],
   "source": [
    "env = RustEnvironment(\"equations-ct\", abs_config)\n",
    "problems = [generate('equations-ct', i) for i in range(100)]\n",
    "# print(problem)\n",
    "start = time()\n",
    "nums = []\n",
    "for problem in problems:\n",
    "    nums.append(len(env.step([State([problem], [], 0.)])[0][1]))\n",
    "print(time() - start)\n",
    "print(nums)"
   ]
  },
  {
   "cell_type": "code",
   "execution_count": 65,
   "id": "dd1feac5-e443-4b65-8b92-1f7236d64bd6",
   "metadata": {
    "tags": []
   },
   "outputs": [
    {
     "name": "stdout",
     "output_type": "stream",
     "text": [
      "  ______________________________________________________________________________________________________________________________________________________________________________________________________________________________________________________________________________________________________________________________________________________________________________________________________________________________________________________________________________________________________________________________________________________________________________________________________________________________________________________________________________________________________________________________________________________________________________________________________________________________________________None______________________________________________________________________________________________________________________________________________________________________________________________________________________________________________________________________________________________________________________________________________________________________________________________________________________________________________________________________________________________________________________________________________________________________________________________________________________________________________________________________________________________________________________________________________________________________________________________________________________________________________  \n",
      "    (None, Axiom(\"refl\")): refl      ____________________________________(None, Axiom(\"comm\")): comm____________________________________    _________________(None, Axiom(\"assoc\")): assoc_________________    ________________________(None, Axiom(\"dist\")): dist________________________      (None, Axiom(\"sub_comm\")): sub_comm      __________________________________________________________________________________________________________(None, Axiom(\"eval\")): eval__________________________________________________________________________________________________________      (None, Axiom(\"add0\")): add0        (None, Axiom(\"sub0\")): sub0      _________(None, Axiom(\"mul1\")): mul1__________      (None, Axiom(\"div1\")): div1        (None, Axiom(\"div_self\")): div_self      ______________________________________(None, Axiom(\"sub_self\")): sub_self______________________________________      (None, Axiom(\"subsub\")): subsub        (None, Axiom(\"mul0\")): mul0        (None, Axiom(\"zero_div\")): zero_div        (None, Axiom(\"add\")): add      ____________________________________________________________________________________________________________________________________________________________(None, Axiom(\"sub\")): sub_____________________________________________________________________________________________________________________________________________________________      (None, Axiom(\"mul\")): mul      ___________________________________________________________________________________________________(None, Axiom(\"div\")): div____________________________________________________________________________________________________  \n",
      "                                     ____________________________(('0', ''), Axiom(\"assoc\")): comm~assoc:0______________________________    ___________(('', '1'), Axiom(\"eval\")): assoc~eval:_1___________    ________________________(('', '0'), Axiom(\"eval\"))_________________________                                                 (('1', ''), Axiom(\"mul1\")): eval~mul1:1_      _______________(('0', ''), Axiom(\"eval\")): eval~eval:0________________      (('1', ''), Axiom(\"add0\")): eval~add0:1_      ___________________(('0.0.0', None), Axiom(\"div\"))___________________                                                                            (('0', '1'), Axiom(\"eval\")): mul1~eval:0_1                                                                                    __________________________________________(('1', ''), Axiom(\"comm\"))___________________________________________                                                                                                                                                          _________________________________________________________________________________________________________________________________________________________((None, '0.0.0'), Axiom(\"comm\"))_________________________________________________________________________________________________________________________________________________________                                       ((None, '0.0'), Axiom(\"assoc\")): div~assoc:$_0.0      ___________________________________________________________((None, '0.0.0'), Axiom(\"comm\")): div~comm:$_0.0.0___________________________________________________________  \n",
      "                                     ____________________________________(('', '1'), Axiom(\"eval\"))_____________________________________    __________________(('1', ''), Axiom(\"mul1\"))___________________    ______________________(('0.0.0', None), Axiom(\"div\"))______________________                                                                                               _____________________(('1', '0'), Axiom(\"assoc\"))_____________________                                                      ((None, '0.0.0'), Axiom(\"comm\")): eval~{div~comm:$_0.0.0}:0.0.0_$                                                                                                                                                                                                            __________________________________________(('0', ''), Axiom(\"assoc\"))__________________________________________                                                                                                                                                          _____________________________________________________________________________________________________________________________________________(('0', ''), Axiom(\"assoc\")): sub~{comm~assoc:0_}:$_0.0.0_____________________________________________________________________________________________________________________________________________                                                                                             ___________________(('0', ''), Axiom(\"assoc\"))___________________    __________________________________(('0.0', '1.0'), Axiom(\"eval\"))__________________________________  \n",
      "                                     ___________________(('1', ''), Axiom(\"add0\")): {comm~assoc:0_}~{eval~add0:1_}:_1___________________      (('0', '1'), Axiom(\"eval\")): assoc~eval~mul1~eval:_1~1_~0_1        ((None, '0.0.0'), Axiom(\"comm\")): dist~eval~div~comm:_0~0.0.0_$~$_0.0.0                                                                                                 ____(('', '1'), Axiom(\"eval\")): {eval~eval:0_}~{assoc~eval:_1}:1_0____                                                                                                                                                                                                                                                                                                                                   __________________________________________(('', '1'), Axiom(\"eval\"))___________________________________________                                                                                                                                                          _____________________________________________________________________________________________________(('', '1'), Axiom(\"eval\"))______________________________________________________________________________________________________    ______________________________________(('0.0', None), Axiom(\"sub\"))______________________________________                                                                                               (('', '1'), Axiom(\"eval\")): div~comm~assoc~eval:$_0.0.0~0_~_1      ____________________________________(('0', ''), Axiom(\"eval\"))_____________________________________  \n",
      "                                     __________________________________(('1.0', '0'), Axiom(\"assoc\"))___________________________________                                                                                                                                                                                                                                                   (('1', ''), Axiom(\"mul1\")): eval~eval~assoc~eval~mul1:0_~1_0~_1~1_                                                                                                                                                                                                                                                                                                                                     __________________________________________(('1', ''), Axiom(\"add0\"))___________________________________________                                                                                                                                                          ________________________________________________________________________________(('1', ''), Axiom(\"add0\")): sub~comm~assoc~eval~add0:$_0.0.0~0_~_1~1_________________________________________________________________________________    ____________________________________((None, '0.0.0'), Axiom(\"comm\"))_____________________________________                                                                                                                                                                  ___________________________________(('1', '0'), Axiom(\"assoc\"))____________________________________  \n",
      "                                     ____________________________________(('', '1'), Axiom(\"eval\"))_____________________________________                                                                                                                                                                                                                                                                                                                                                                                                                                                                                                                                                                                                                                                          ________________________________________(('1.0', '0'), Axiom(\"assoc\"))_________________________________________                                                                                                                                                          _______________________________________________(('', ''), Axiom(\"dist\"))_______________________________________________    ______________________________________(('0.0', None), Axiom(\"div\"))_______________________________________    _______________________________________(('0', ''), Axiom(\"assoc\"))_______________________________________                                                                                                                                                                  ____________________________________(('', '1'), Axiom(\"eval\"))_____________________________________  \n",
      "                                     ____________________________________(('1', ''), Axiom(\"mul1\"))_____________________________________                                                                                                                                                                                                                                                                                                                                                                                                                                                                                                                                                                                                                                                          __________________________________________(('', '1'), Axiom(\"eval\"))___________________________________________                                                                                                                                                          ______________________________________________(('', '0'), Axiom(\"eval\"))_______________________________________________      ((None, '0.0.0'), Axiom(\"comm\")): {sub~comm~assoc~eval~add0:$_0.0.0~0_~_1~1_}~{div~comm:$_0.0.0}:0.0_$      _______________________________________(('', '1'), Axiom(\"eval\"))________________________________________                                                                                                                                                                    (('1', ''), Axiom(\"mul1\")): {div~comm:$_0.0.0}~{eval~eval~assoc~eval~mul1:0_~1_0~_1~1_}:0.0_1.0    \n",
      "                                       (('0', '1'), Axiom(\"eval\")): comm~assoc~eval~add0~assoc~eval~mul1~eval:0_~_1~1_~1.0_0~_1~1_~0_1                                                                                                                                                                                                                                                                                                                                                                                                                                                                                                                                                                                                                                                            __________________________________________(('1', ''), Axiom(\"mul1\"))___________________________________________                                                                                                                                                          ____________________________________________(('0.0.0', None), Axiom(\"div\"))____________________________________________                                                                                                                    (('1', ''), Axiom(\"add0\")): sub~comm~assoc~sub~comm~assoc~eval~add0:$_0.0.0~0_~0.0_$~$_0.0.0~0_~_1~1_                                                                                                                                                                                                                                                                         \n",
      "                                                                                                                                                                                                                                                                                                                                                                                                                                                                                                                                                                                                                                                                                                                                                                                                    (('0', '1'), Axiom(\"eval\")): sub_self~comm~assoc~eval~add0~assoc~eval~mul1~eval:1_~0_~_1~1_~1.0_0~_1~1_~0_1                                                                                                                                                              ((None, '0.0.0'), Axiom(\"comm\")): sub~comm~assoc~eval~add0~dist~eval~div~comm:$_0.0.0~0_~_1~1_~_~_0~0.0.0_$~$_0.0.0                                                                                                                                                                                                                                                                                                                                                                                                                                                                                                    \n"
     ]
    }
   ],
   "source": [
    "print(env.rule_trie)"
   ]
  },
  {
   "cell_type": "code",
   "execution_count": 19,
   "id": "00a7b92f-bdfb-4ae8-b104-8eb8608788ef",
   "metadata": {},
   "outputs": [],
   "source": [
    "import cProfile\n",
    "\n",
    "env = RustEnvironment(\"equations-ct\")\n",
    "problems = [generate('equations-ct', i) for i in range(100)]\n",
    "cProfile.run(\"for problem in problems: env.step([State([problem], [], 0.)])\", \"env_step_profile\")\n",
    "\n",
    "env = RustEnvironment(\"equations-ct\", abs_config)\n",
    "cProfile.run(\"for problem in problems: env.step([State([problem], [], 0.)])\", \"env_step_abs_profile\")"
   ]
  },
  {
   "cell_type": "code",
   "execution_count": 25,
   "id": "f27c73b9-bcd3-4ae7-9121-0bcd355fd557",
   "metadata": {},
   "outputs": [
    {
     "name": "stdout",
     "output_type": "stream",
     "text": [
      "Thu Aug 18 23:17:35 2022    env_step_abs_profile\n",
      "\n",
      "         677304 function calls (651867 primitive calls) in 1.622 seconds\n",
      "\n",
      "   Ordered by: internal time\n",
      "\n",
      "   ncalls  tottime  percall  cumtime  percall filename:lineno(function)\n",
      "     9075    1.114    0.000    1.114    0.000 {built-in method commoncore.apply}\n",
      "19584/3756    0.131    0.000    1.599    0.000 environment.py:182(apply_abs_helper)\n",
      "    22543    0.050    0.000    0.110    0.000 steps.py:70(from_string)\n",
      "    22543    0.041    0.000    0.050    0.000 steps.py:50(__init__)\n",
      "      200    0.026    0.000    0.026    0.000 {built-in method commoncore.step}\n",
      "    22543    0.025    0.000    0.046    0.000 abstractions.py:351(get_abs_elt)\n",
      "    22543    0.015    0.000    0.125    0.000 steps.py:15(from_string)\n",
      "    22633    0.015    0.000    0.018    0.000 abstractions.py:335(remove_prefix)\n",
      "    96928    0.014    0.000    0.017    0.000 {built-in method builtins.len}\n",
      "     1481    0.014    0.000    0.066    0.000 steps.py:124(__init__)\n",
      "1481/1034    0.012    0.000    0.090    0.000 steps.py:170(from_abs)\n",
      "    44986    0.010    0.000    0.010    0.000 {method 'find' of 'str' objects}\n",
      "    22543    0.010    0.000    0.010    0.000 abstractions.py:19(__init__)\n",
      "    74710    0.010    0.000    0.010    0.000 {built-in method builtins.isinstance}\n",
      "     9787    0.009    0.000    0.021    0.000 {built-in method builtins.all}\n",
      "    18938    0.008    0.000    0.011    0.000 abstractions.py:33(__eq__)\n",
      "     5344    0.008    0.000    0.020    0.000 steps.py:252(__init__)\n",
      "     3656    0.007    0.000    0.124    0.000 steps.py:272(display_compressed)\n",
      "     1481    0.007    0.000    0.036    0.000 abstractions.py:302(from_steps)\n",
      "    31160    0.006    0.000    0.006    0.000 {method 'append' of 'list' objects}\n",
      "     1481    0.006    0.000    0.017    0.000 abstractions.py:44(__init__)\n",
      "4443/3102    0.006    0.000    0.019    0.000 {method 'join' of 'str' objects}\n",
      "     4443    0.005    0.000    0.014    0.000 {built-in method builtins.sum}\n",
      "    17159    0.004    0.000    0.006    0.000 steps.py:253(<genexpr>)\n",
      "    12082    0.004    0.000    0.007    0.000 abstractions.py:36(__hash__)\n",
      "    26289    0.004    0.000    0.004    0.000 steps.py:66(rule)\n",
      "     1481    0.004    0.000    0.021    0.000 abstractions.py:284(__init__)\n",
      "    12579    0.004    0.000    0.005    0.000 steps.py:193(wrap_brkt)\n",
      "5674/4054    0.003    0.000    0.027    0.000 steps.py:184(<genexpr>)\n",
      "    12082    0.003    0.000    0.003    0.000 {built-in method builtins.hash}\n",
      "      100    0.003    0.000    1.616    0.016 environment.py:234(apply_abs)\n",
      "5674/4054    0.002    0.000    0.006    0.000 steps.py:202(<genexpr>)\n",
      "     9075    0.002    0.000    0.002    0.000 abstractions.py:369(get_ax_from_abs_elt)\n",
      "     1481    0.002    0.000    0.003    0.000 {built-in method builtins.max}\n",
      "1481/1034    0.002    0.000    0.009    0.000 steps.py:199(name_str)\n",
      "     4193    0.002    0.000    0.005    0.000 abstractions.py:305(<genexpr>)\n",
      "     5674    0.002    0.000    0.003    0.000 abstractions.py:304(<genexpr>)\n",
      "     1034    0.002    0.000    0.024    0.000 steps.py:217(__str__)\n",
      "5674/4054    0.002    0.000    0.004    0.000 steps.py:208(<genexpr>)\n",
      "     3656    0.002    0.000    0.002    0.000 environment.py:50(__init__)\n",
      "5674/4054    0.002    0.000    0.004    0.000 steps.py:214(<genexpr>)\n",
      "     6400    0.002    0.000    0.002    0.000 steps.py:176(<genexpr>)\n",
      "     5674    0.002    0.000    0.002    0.000 abstractions.py:47(<genexpr>)\n",
      "     3756    0.002    0.000    0.002    0.000 environment.py:26(__init__)\n",
      "     5674    0.002    0.000    0.002    0.000 steps.py:138(<genexpr>)\n",
      "     5674    0.001    0.000    0.002    0.000 steps.py:127(<genexpr>)\n",
      "1481/1034    0.001    0.000    0.006    0.000 steps.py:205(idx_str)\n",
      "     5674    0.001    0.000    0.004    0.000 steps.py:137(<genexpr>)\n",
      "1481/1034    0.001    0.000    0.006    0.000 steps.py:211(param_str)\n",
      "      100    0.001    0.000    1.625    0.016 environment.py:243(step)\n",
      "     5674    0.001    0.000    0.003    0.000 abstractions.py:53(<genexpr>)\n",
      "     2622    0.001    0.000    0.001    0.000 steps.py:88(__str__)\n",
      "     5674    0.001    0.000    0.001    0.000 abstractions.py:54(<genexpr>)\n",
      "     5674    0.001    0.000    0.001    0.000 steps.py:132(<genexpr>)\n",
      "     5674    0.001    0.000    0.001    0.000 steps.py:134(<genexpr>)\n",
      "     7492    0.001    0.000    0.001    0.000 abstractions.py:39(__len__)\n",
      "     5674    0.001    0.000    0.001    0.000 steps.py:133(<genexpr>)\n",
      "     2375    0.001    0.000    0.001    0.000 abstractions.py:136(__len__)\n",
      "     3746    0.001    0.000    0.001    0.000 steps.py:85(__len__)\n",
      "        1    0.001    0.001    1.625    1.625 <string>:1(<module>)\n",
      "      100    0.000    0.000    0.008    0.000 environment.py:260(<listcomp>)\n",
      "      100    0.000    0.000    1.616    0.016 environment.py:251(<listcomp>)\n",
      "      100    0.000    0.000    0.000    0.000 environment.py:257(<listcomp>)\n",
      "      447    0.000    0.000    0.000    0.000 steps.py:145(rule)\n",
      "      447    0.000    0.000    0.000    0.000 steps.py:190(__len__)\n",
      "        1    0.000    0.000    1.626    1.626 {built-in method builtins.exec}\n",
      "        1    0.000    0.000    0.000    0.000 {method 'disable' of '_lsprof.Profiler' objects}\n",
      "\n",
      "\n"
     ]
    },
    {
     "data": {
      "text/plain": [
       "<pstats.Stats at 0x7ff5d3a49100>"
      ]
     },
     "execution_count": 25,
     "metadata": {},
     "output_type": "execute_result"
    }
   ],
   "source": [
    "import pstats\n",
    "from pstats import SortKey\n",
    "\n",
    "p = pstats.Stats('env_step_abs_profile')\n",
    "p.strip_dirs()\n",
    "p.sort_stats(SortKey.TIME)\n",
    "p.print_stats()"
   ]
  },
  {
   "cell_type": "code",
   "execution_count": 13,
   "id": "712add9c-225e-4473-ae28-1c38dd7f4117",
   "metadata": {},
   "outputs": [
    {
     "name": "stdout",
     "output_type": "stream",
     "text": [
      "dict_keys(['_generate_next_value_', '__module__', '__new__', '__doc__', '__dict__', '__weakref__', '_member_names_', '_member_map_', '_member_type_', '_value2member_map_', 'CALLS', 'CUMULATIVE', 'FILENAME', 'LINE', 'NAME', 'NFL', 'PCALLS', 'STDNAME', 'TIME', '__repr__', '__str__', '__format__', '__new_member__'])\n"
     ]
    }
   ],
   "source": [
    "print(SortKey.__dict__.keys())"
   ]
  },
  {
   "cell_type": "code",
   "execution_count": null,
   "id": "34dc0a7b-7304-4081-8416-23b317b2022d",
   "metadata": {},
   "outputs": [],
   "source": []
  }
 ],
 "metadata": {
  "kernelspec": {
   "display_name": "Python 3 (ipykernel)",
   "language": "python",
   "name": "python3"
  },
  "language_info": {
   "codemirror_mode": {
    "name": "ipython",
    "version": 3
   },
   "file_extension": ".py",
   "mimetype": "text/x-python",
   "name": "python",
   "nbconvert_exporter": "python",
   "pygments_lexer": "ipython3",
   "version": "3.9.7"
  }
 },
 "nbformat": 4,
 "nbformat_minor": 5
}
